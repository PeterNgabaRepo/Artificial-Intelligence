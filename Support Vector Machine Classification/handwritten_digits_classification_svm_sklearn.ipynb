{
 "cells": [
  {
   "cell_type": "markdown",
   "id": "439fd528",
   "metadata": {},
   "source": [
    "# CMSC 471: Introduction to Artificial Intelligence\n",
    "\n",
    "\n",
    "# Support Vector Machine Classification\n",
    "## Multiclass Classification of Handwritten Digits"
   ]
  },
  {
   "cell_type": "markdown",
   "id": "5d72eb9d",
   "metadata": {},
   "source": [
    "## Background Section\n",
    "\n",
    "We will be using the Scikit-learn (sklearn) Python library to explore Support Vector Machine (SVM) for character recognition of handwritten digits from 0 to 9."
   ]
  },
  {
   "cell_type": "markdown",
   "id": "6d243d21",
   "metadata": {},
   "source": [
    "## Scikit-Learn Digits Dataset\n",
    "\n",
    "The sklearn digits dataset consists of 1797, $8\\times 8$ pixel greyscale images of handwritten digits from 0 to 9.\n",
    "\n",
    "There are 10 distinct classes, one for each digit from 0 to 9.\n",
    "\n",
    "This dataset has been labelled, meaning human(s) reviewed the handwritten samples and manually classified them. These labels are the ground truth and will be used to test the predictions of the classifier."
   ]
  },
  {
   "cell_type": "markdown",
   "id": "8fd9b389",
   "metadata": {},
   "source": [
    "## Classifiying handwritten digits\n",
    "\n",
    "1. import libraries.\n",
    "2. load dataset.\n",
    "\n",
    "$\n",
    "\\renewcommand\\vec{\\mathbf}\n",
    "$"
   ]
  },
  {
   "cell_type": "code",
   "execution_count": 13,
   "id": "4308f469",
   "metadata": {},
   "outputs": [],
   "source": [
    "import numpy as np\n",
    "from sklearn import datasets\n",
    "from sklearn import svm\n",
    "from sklearn import metrics\n",
    "from sklearn.model_selection import train_test_split\n",
    "import matplotlib.pyplot as plt"
   ]
  },
  {
   "cell_type": "markdown",
   "id": "f0eda941",
   "metadata": {},
   "source": [
    "### Explore the dataset\n",
    "\n",
    "Load the digit dataset."
   ]
  },
  {
   "cell_type": "code",
   "execution_count": 14,
   "id": "fa5f99bb",
   "metadata": {},
   "outputs": [],
   "source": [
    "digits = datasets.load_digits()"
   ]
  },
  {
   "cell_type": "markdown",
   "id": "c0765d7b",
   "metadata": {},
   "source": [
    "The dataset is stored as a Python dictionary object.\n",
    "\n",
    "The data and target values are stored as Numpy arrays.\n",
    "\n",
    "The data attribute contains the data and the target attribute contains the labels.\n",
    "\n",
    "Print out all the keys."
   ]
  },
  {
   "cell_type": "code",
   "execution_count": 5,
   "id": "d23ee10d",
   "metadata": {
    "scrolled": true
   },
   "outputs": [
    {
     "data": {
      "text/plain": [
       "dict_keys(['data', 'target', 'frame', 'feature_names', 'target_names', 'images', 'DESCR'])"
      ]
     },
     "execution_count": 5,
     "metadata": {},
     "output_type": "execute_result"
    }
   ],
   "source": [
    "digits.keys()"
   ]
  },
  {
   "cell_type": "markdown",
   "id": "b5f11a14",
   "metadata": {},
   "source": [
    "A description of the dataset can be printed using the DESCR key."
   ]
  },
  {
   "cell_type": "code",
   "execution_count": 6,
   "id": "bee2aec6",
   "metadata": {
    "scrolled": true
   },
   "outputs": [
    {
     "data": {
      "text/plain": [
       "\".. _digits_dataset:\\n\\nOptical recognition of handwritten digits dataset\\n--------------------------------------------------\\n\\n**Data Set Characteristics:**\\n\\n    :Number of Instances: 1797\\n    :Number of Attributes: 64\\n    :Attribute Information: 8x8 image of integer pixels in the range 0..16.\\n    :Missing Attribute Values: None\\n    :Creator: E. Alpaydin (alpaydin '@' boun.edu.tr)\\n    :Date: July; 1998\\n\\nThis is a copy of the test set of the UCI ML hand-written digits datasets\\nhttps://archive.ics.uci.edu/ml/datasets/Optical+Recognition+of+Handwritten+Digits\\n\\nThe data set contains images of hand-written digits: 10 classes where\\neach class refers to a digit.\\n\\nPreprocessing programs made available by NIST were used to extract\\nnormalized bitmaps of handwritten digits from a preprinted form. From a\\ntotal of 43 people, 30 contributed to the training set and different 13\\nto the test set. 32x32 bitmaps are divided into nonoverlapping blocks of\\n4x4 and the number of on pixels are counted in each block. This generates\\nan input matrix of 8x8 where each element is an integer in the range\\n0..16. This reduces dimensionality and gives invariance to small\\ndistortions.\\n\\nFor info on NIST preprocessing routines, see M. D. Garris, J. L. Blue, G.\\nT. Candela, D. L. Dimmick, J. Geist, P. J. Grother, S. A. Janet, and C.\\nL. Wilson, NIST Form-Based Handprint Recognition System, NISTIR 5469,\\n1994.\\n\\n.. topic:: References\\n\\n  - C. Kaynak (1995) Methods of Combining Multiple Classifiers and Their\\n    Applications to Handwritten Digit Recognition, MSc Thesis, Institute of\\n    Graduate Studies in Science and Engineering, Bogazici University.\\n  - E. Alpaydin, C. Kaynak (1998) Cascading Classifiers, Kybernetika.\\n  - Ken Tang and Ponnuthurai N. Suganthan and Xi Yao and A. Kai Qin.\\n    Linear dimensionalityreduction using relevance weighted LDA. School of\\n    Electrical and Electronic Engineering Nanyang Technological University.\\n    2005.\\n  - Claudio Gentile. A New Approximate Maximal Margin Classification\\n    Algorithm. NIPS. 2000.\\n\""
      ]
     },
     "execution_count": 6,
     "metadata": {},
     "output_type": "execute_result"
    }
   ],
   "source": [
    "digits.DESCR"
   ]
  },
  {
   "cell_type": "markdown",
   "id": "a7259be7",
   "metadata": {},
   "source": [
    "Print out the shape of the data and verify it is two-dimensional with the first dimension having size 1797."
   ]
  },
  {
   "cell_type": "code",
   "execution_count": 15,
   "id": "231a5a89",
   "metadata": {},
   "outputs": [
    {
     "name": "stdout",
     "output_type": "stream",
     "text": [
      "shape      =  (1797, 64)\n",
      "dimensions =  2\n"
     ]
    }
   ],
   "source": [
    "print(\"shape      = \", digits.data.shape)\n",
    "print(\"dimensions = \", len(digits.data.shape))"
   ]
  },
  {
   "cell_type": "markdown",
   "id": "856ca136",
   "metadata": {},
   "source": [
    "Print out the shape and number of dimensions of the target."
   ]
  },
  {
   "cell_type": "code",
   "execution_count": 16,
   "id": "fecf516e",
   "metadata": {},
   "outputs": [
    {
     "name": "stdout",
     "output_type": "stream",
     "text": [
      "shape      =  (1797,)\n",
      "dimensions =  1\n"
     ]
    }
   ],
   "source": [
    "print(\"shape      = \", digits.target.shape)\n",
    "print(\"dimensions = \", len(digits.target.shape))"
   ]
  },
  {
   "cell_type": "markdown",
   "id": "c024f976",
   "metadata": {},
   "source": [
    "Let's look at the first image. The label is shown above it."
   ]
  },
  {
   "cell_type": "code",
   "execution_count": 17,
   "id": "27374d5a",
   "metadata": {},
   "outputs": [
    {
     "data": {
      "image/png": "[encoded data removed]",
      "text/plain": [
       "<Figure size 144x144 with 1 Axes>"
      ]
     },
     "metadata": {
      "needs_background": "light"
     },
     "output_type": "display_data"
    }
   ],
   "source": [
    "axes = plt.figure(figsize=(2, 2))\n",
    "ax = axes.add_subplot()\n",
    "ax.set_axis_off()\n",
    "ax.imshow(digits.images[0], cmap=plt.cm.gray_r, interpolation='nearest')\n",
    "ax.set_title(\"%i\" % digits.target[0])\n",
    "plt.show()"
   ]
  },
  {
   "cell_type": "markdown",
   "id": "73d7f6cd",
   "metadata": {},
   "source": [
    "Each of the 1797 images in the dataset has been transformed into a 64-dimensional feature vector.\n",
    "\n",
    "A feature vector for a digit is produced simply by linearizing the 2D image of the $8\\times 8=64$ pixels into a 1D vector. Hence the number of features is the total number of pixels (64). A feature is a grayscale pixel value.\n",
    "\n",
    "The feature vectors dataset is an $n \\times d$ matrix of $n$ samples each with $d$ features.\n",
    "\n",
    "These feature vectors are stored in the data attribute.\n",
    "\n",
    "Print the feature vector for the first image."
   ]
  },
  {
   "cell_type": "code",
   "execution_count": 18,
   "id": "13e18f73",
   "metadata": {},
   "outputs": [
    {
     "data": {
      "text/plain": [
       "array([ 0.,  0.,  5., 13.,  9.,  1.,  0.,  0.,  0.,  0., 13., 15., 10.,\n",
       "       15.,  5.,  0.,  0.,  3., 15.,  2.,  0., 11.,  8.,  0.,  0.,  4.,\n",
       "       12.,  0.,  0.,  8.,  8.,  0.,  0.,  5.,  8.,  0.,  0.,  9.,  8.,\n",
       "        0.,  0.,  4., 11.,  0.,  1., 12.,  7.,  0.,  0.,  2., 14.,  5.,\n",
       "       10., 12.,  0.,  0.,  0.,  0.,  6., 13., 10.,  0.,  0.,  0.])"
      ]
     },
     "execution_count": 18,
     "metadata": {},
     "output_type": "execute_result"
    }
   ],
   "source": [
    "digits.data[0] "
   ]
  },
  {
   "cell_type": "markdown",
   "id": "587d0b68",
   "metadata": {},
   "source": [
    "The data, in this case feature vectors, are the independent variables, also known as the predictors.\n",
    "\n",
    "These are the x-coordinates of data points in a hyperplane.\n",
    "\n",
    "Print a summary of all the data."
   ]
  },
  {
   "cell_type": "code",
   "execution_count": 19,
   "id": "571e55af",
   "metadata": {
    "scrolled": false
   },
   "outputs": [
    {
     "data": {
      "text/plain": [
       "array([[ 0.,  0.,  5., ...,  0.,  0.,  0.],\n",
       "       [ 0.,  0.,  0., ..., 10.,  0.,  0.],\n",
       "       [ 0.,  0.,  0., ..., 16.,  9.,  0.],\n",
       "       ...,\n",
       "       [ 0.,  0.,  1., ...,  6.,  0.,  0.],\n",
       "       [ 0.,  0.,  2., ..., 12.,  0.,  0.],\n",
       "       [ 0.,  0., 10., ..., 12.,  1.,  0.]])"
      ]
     },
     "execution_count": 19,
     "metadata": {},
     "output_type": "execute_result"
    }
   ],
   "source": [
    "digits.data"
   ]
  },
  {
   "cell_type": "markdown",
   "id": "1d1df374",
   "metadata": {},
   "source": [
    "The target are the dependent variables, also known as the indicators or response/outcome variables.\n",
    "\n",
    "These are the y-coordinates of data points in a hyperplane.\n",
    "\n",
    "Print a summary of the target values (labels) for the data."
   ]
  },
  {
   "cell_type": "code",
   "execution_count": 20,
   "id": "a5f8da2d",
   "metadata": {
    "scrolled": true
   },
   "outputs": [
    {
     "data": {
      "text/plain": [
       "array([0, 1, 2, ..., 8, 9, 8])"
      ]
     },
     "execution_count": 20,
     "metadata": {},
     "output_type": "execute_result"
    }
   ],
   "source": [
    "digits.target"
   ]
  },
  {
   "cell_type": "markdown",
   "id": "1c09eb65",
   "metadata": {},
   "source": [
    "Since the digits are 0 to 9 then there are only ten unique labels.\n",
    "\n",
    "Verify there are only ten labels."
   ]
  },
  {
   "cell_type": "code",
   "execution_count": 21,
   "id": "f1ba139e",
   "metadata": {},
   "outputs": [
    {
     "data": {
      "text/plain": [
       "array([0, 1, 2, 3, 4, 5, 6, 7, 8, 9])"
      ]
     },
     "execution_count": 21,
     "metadata": {},
     "output_type": "execute_result"
    }
   ],
   "source": [
    "np.unique(digits.target)"
   ]
  },
  {
   "cell_type": "markdown",
   "id": "b69e2de3",
   "metadata": {},
   "source": [
    "Visualize the first 20 images from the digits dataset."
   ]
  },
  {
   "cell_type": "code",
   "execution_count": 22,
   "id": "9004213e",
   "metadata": {
    "scrolled": false
   },
   "outputs": [
    {
     "data": {
      "image/png": "[encoded data removed]",
      "text/plain": [
       "<Figure size 720x360 with 20 Axes>"
      ]
     },
     "metadata": {
      "needs_background": "light"
     },
     "output_type": "display_data"
    }
   ],
   "source": [
    "_, axes = plt.subplots(nrows=1, ncols=20, figsize=(10, 5))\n",
    "for ax, image, label in zip(axes, digits.images, digits.target):\n",
    "    ax.set_axis_off()\n",
    "    ax.imshow(image, cmap=plt.cm.gray_r, interpolation='nearest')\n",
    "    ax.set_title('%i' % label)"
   ]
  },
  {
   "cell_type": "markdown",
   "id": "c1cfe83f",
   "metadata": {},
   "source": [
    "Visualize the first handwritten example of the number 5."
   ]
  },
  {
   "cell_type": "code",
   "execution_count": 23,
   "id": "43f0cf0b",
   "metadata": {
    "scrolled": false
   },
   "outputs": [
    {
     "data": {
      "image/png": "[encoded data removed]",
      "text/plain": [
       "<Figure size 36x36 with 1 Axes>"
      ]
     },
     "metadata": {
      "needs_background": "light"
     },
     "output_type": "display_data"
    }
   ],
   "source": [
    "axes = plt.figure(figsize=(.5, .5))\n",
    "ax = axes.add_subplot()\n",
    "ax.set_axis_off()\n",
    "ax.imshow(digits.images[5], cmap=plt.cm.gray_r, interpolation='nearest')\n",
    "ax.set_title(\"%i\" % digits.target[5])\n",
    "plt.show()"
   ]
  },
  {
   "cell_type": "markdown",
   "id": "511a1dcd",
   "metadata": {},
   "source": [
    "Next we'll train a classifier on the data and use it to classify data it has not seen before.\n",
    "\n",
    "The following custom function will be used to plot the results."
   ]
  },
  {
   "cell_type": "code",
   "execution_count": 24,
   "id": "7f14250d",
   "metadata": {},
   "outputs": [],
   "source": [
    "def plot_confusion_matrix(classifier, X_test, y_test):\n",
    "    _, axes = plt.subplots(figsize=(8, 6))\n",
    "    metrics.plot_confusion_matrix(classifier, X_test, y_test, ax=axes, normalize='true')\n",
    "    plt.show()\n",
    "    print(f\"Accuracy: %.2f%%\" % (classifier.score(X_test, y_test)*100))"
   ]
  },
  {
   "cell_type": "markdown",
   "id": "3ac59e7f",
   "metadata": {},
   "source": [
    "## Support Vector Machine\n",
    "\n",
    "Load the Support Vector Machine classifier."
   ]
  },
  {
   "cell_type": "code",
   "execution_count": 25,
   "id": "a02115cc",
   "metadata": {},
   "outputs": [],
   "source": [
    "classifier = svm.SVC()"
   ]
  },
  {
   "cell_type": "markdown",
   "id": "08136fd0",
   "metadata": {},
   "source": [
    "Fit all but the last (x,y) point. The last image is labelled as the digit 8.\n",
    "\n",
    "After fitting, the classifier will be used to predict the label for this last data point."
   ]
  },
  {
   "cell_type": "code",
   "execution_count": 26,
   "id": "e935ec60",
   "metadata": {},
   "outputs": [
    {
     "data": {
      "text/plain": [
       "SVC()"
      ]
     },
     "execution_count": 26,
     "metadata": {},
     "output_type": "execute_result"
    }
   ],
   "source": [
    "classifier.fit(digits.data[:-1], digits.target[:-1])"
   ]
  },
  {
   "cell_type": "markdown",
   "id": "98964bd0",
   "metadata": {},
   "source": [
    "Now use the classifier to predict the last (x,y) data point."
   ]
  },
  {
   "cell_type": "code",
   "execution_count": 27,
   "id": "01fd56d0",
   "metadata": {
    "scrolled": true
   },
   "outputs": [
    {
     "name": "stdout",
     "output_type": "stream",
     "text": [
      "[8]\n"
     ]
    }
   ],
   "source": [
    "y_prediction = classifier.predict(digits.data[-1:])\n",
    "print(y_prediction)"
   ]
  },
  {
   "cell_type": "markdown",
   "id": "4e9597e2",
   "metadata": {},
   "source": [
    "The SVM classifier predicts the last data to be the number 8 digit.\n",
    "\n",
    "Plot the figure predicted by the SVM classifier. "
   ]
  },
  {
   "cell_type": "code",
   "execution_count": 28,
   "id": "249046b4",
   "metadata": {},
   "outputs": [
    {
     "data": {
      "image/png": "[encoded data removed]",
      "text/plain": [
       "<Figure size 36x36 with 1 Axes>"
      ]
     },
     "metadata": {
      "needs_background": "light"
     },
     "output_type": "display_data"
    }
   ],
   "source": [
    "axes = plt.figure(figsize=(.5, .5))\n",
    "ax = axes.add_subplot()\n",
    "ax.set_axis_off()\n",
    "ax.imshow(digits.images[-1], cmap=plt.cm.gray_r, interpolation='nearest')\n",
    "ax.set_title(\"Predicted: %i\" % y_prediction)\n",
    "plt.show()"
   ]
  },
  {
   "cell_type": "markdown",
   "id": "ffbda2a5",
   "metadata": {},
   "source": [
    "## Train and Test\n",
    "\n",
    "Let's re-train the classifier by splitting the dataset into training and test sets."
   ]
  },
  {
   "cell_type": "markdown",
   "id": "68f24b86",
   "metadata": {},
   "source": [
    "#### Split data into training and testing sets\n",
    "\n",
    "Split the dataset with three-quarters for training and one-quarter for testing.\n",
    "\n",
    "Use the train_test_split function from the model_selection module."
   ]
  },
  {
   "cell_type": "code",
   "execution_count": 29,
   "id": "581e600d",
   "metadata": {},
   "outputs": [],
   "source": [
    "X_train, X_test, y_train, y_test = train_test_split(digits.data, digits.target, test_size=.25, shuffle=False)"
   ]
  },
  {
   "cell_type": "markdown",
   "id": "f1178eda",
   "metadata": {},
   "source": [
    "### Fit and Predict\n",
    "\n",
    "Train the SVM classifier on the training set."
   ]
  },
  {
   "cell_type": "code",
   "execution_count": 30,
   "id": "60f560f4",
   "metadata": {
    "scrolled": true
   },
   "outputs": [
    {
     "data": {
      "text/plain": [
       "SVC()"
      ]
     },
     "execution_count": 30,
     "metadata": {},
     "output_type": "execute_result"
    }
   ],
   "source": [
    "classifier = svm.SVC()\n",
    "classifier.fit(X_train, y_train)"
   ]
  },
  {
   "cell_type": "markdown",
   "id": "99bf64ea",
   "metadata": {},
   "source": [
    "Predict the digits from the test set."
   ]
  },
  {
   "cell_type": "code",
   "execution_count": 31,
   "id": "c2068ec1",
   "metadata": {},
   "outputs": [],
   "source": [
    "y_prediction = classifier.predict(X_test)"
   ]
  },
  {
   "cell_type": "markdown",
   "id": "0646e662",
   "metadata": {},
   "source": [
    "Visualize the predicted values for the first 20 images in the test set."
   ]
  },
  {
   "cell_type": "code",
   "execution_count": 32,
   "id": "a95ed42f",
   "metadata": {},
   "outputs": [
    {
     "data": {
      "image/png": "[encoded data removed]",
      "text/plain": [
       "<Figure size 720x360 with 20 Axes>"
      ]
     },
     "metadata": {
      "needs_background": "light"
     },
     "output_type": "display_data"
    }
   ],
   "source": [
    "_,axes = plt.subplots(nrows=1, ncols=20, figsize=(10, 5))\n",
    "for ax, image, label in zip(axes, X_test, y_prediction):\n",
    "    image = image.reshape(8, 8);\n",
    "    ax.set_axis_off()\n",
    "    ax.imshow(image, cmap=plt.cm.gray_r, interpolation='nearest')\n",
    "    ax.set_title('%i' % label)"
   ]
  },
  {
   "cell_type": "markdown",
   "id": "92cf699d",
   "metadata": {},
   "source": [
    "Notice that the predicted label is 6 for the sixth handwritten digit from the right, but it is most certainly a 5.\n",
    "\n",
    "Print the accuracy of the classifer."
   ]
  },
  {
   "cell_type": "code",
   "execution_count": 33,
   "id": "2cb58a77",
   "metadata": {},
   "outputs": [
    {
     "name": "stdout",
     "output_type": "stream",
     "text": [
      "Accuracy: 94.89%\n"
     ]
    }
   ],
   "source": [
    "print(\"Accuracy: %.2f%%\" % (classifier.score(X_test, y_test)*100))"
   ]
  },
  {
   "cell_type": "markdown",
   "id": "c496b3e9",
   "metadata": {},
   "source": [
    "The accuracy for the SVM classifier is 94.89%.\n",
    "\n",
    "Print the confusion matrix.\n",
    "\n",
    "The confusion matrix is generated by running the classifier on the test set then constructing the True vs Predicted labels matrix elements using the labels from the test set."
   ]
  },
  {
   "cell_type": "code",
   "execution_count": 34,
   "id": "f877ce89",
   "metadata": {
    "scrolled": false
   },
   "outputs": [
    {
     "name": "stderr",
     "output_type": "stream",
     "text": [
      "/Users/peterngaba/opt/anaconda3/envs/tf/lib/python3.7/site-packages/sklearn/utils/deprecation.py:87: FutureWarning: Function plot_confusion_matrix is deprecated; Function `plot_confusion_matrix` is deprecated in 1.0 and will be removed in 1.2. Use one of the class methods: ConfusionMatrixDisplay.from_predictions or ConfusionMatrixDisplay.from_estimator.\n",
      "  warnings.warn(msg, category=FutureWarning)\n"
     ]
    },
    {
     "data": {
      "image/png": "[encoded data removed]",
      "text/plain": [
       "<Figure size 576x432 with 2 Axes>"
      ]
     },
     "metadata": {
      "needs_background": "light"
     },
     "output_type": "display_data"
    },
    {
     "name": "stdout",
     "output_type": "stream",
     "text": [
      "Accuracy: 94.89%\n"
     ]
    }
   ],
   "source": [
    "plot_confusion_matrix(classifier, X_test, y_test)"
   ]
  },
  {
   "cell_type": "markdown",
   "id": "df5433b9",
   "metadata": {},
   "source": [
    "### Gathering Metrics\n",
    "\n",
    "Rview the classification metrics report."
   ]
  },
  {
   "cell_type": "code",
   "execution_count": 35,
   "id": "5e46c043",
   "metadata": {},
   "outputs": [
    {
     "name": "stdout",
     "output_type": "stream",
     "text": [
      "SVM Classification Report:\n",
      "               precision    recall  f1-score   support\n",
      "\n",
      "           0       1.00      0.98      0.99        43\n",
      "           1       0.96      1.00      0.98        46\n",
      "           2       1.00      1.00      1.00        43\n",
      "           3       0.97      0.79      0.87        47\n",
      "           4       0.98      0.94      0.96        48\n",
      "           5       0.94      0.98      0.96        45\n",
      "           6       0.98      1.00      0.99        47\n",
      "           7       0.94      0.98      0.96        45\n",
      "           8       0.81      0.93      0.86        41\n",
      "           9       0.93      0.91      0.92        45\n",
      "\n",
      "    accuracy                           0.95       450\n",
      "   macro avg       0.95      0.95      0.95       450\n",
      "weighted avg       0.95      0.95      0.95       450\n",
      "\n"
     ]
    }
   ],
   "source": [
    "svm_report = metrics.classification_report(y_test, y_prediction)\n",
    "print(\"SVM Classification Report:\\n\", svm_report)"
   ]
  },
  {
   "cell_type": "markdown",
   "id": "637e99ae",
   "metadata": {},
   "source": [
    "### Tuning Parameters\n",
    "\n",
    "Let's see if it can be improved by manually setting a parameter."
   ]
  },
  {
   "cell_type": "code",
   "execution_count": 36,
   "id": "df806ecf",
   "metadata": {},
   "outputs": [],
   "source": [
    "classifier = svm.SVC(gamma=.003)\n",
    "classifier.fit(X_train, y_train)\n",
    "y_prediction = classifier.predict(X_test)"
   ]
  },
  {
   "cell_type": "markdown",
   "id": "1427838d",
   "metadata": {},
   "source": [
    "Here we set the parameter gamma to .003. The gamma parameter is used with the Radial Basis Function (RBF) kernel to adjust the influence a single data point has on \"nearby\" data points.\n",
    "\n",
    "<div class=\"alert alert-block alert-info\">\n",
    "NOTE: The RBF Kernel is $\\exp^{-\\gamma \\lVert x - x^\\prime \\rVert^2}$, where $\\gamma > 0$. The term $\\lVert x -x^\\prime \\rVert^2$ is the square of the Euclidean distance between two sample points, $x,x^\\prime$.\n",
    "</div>\n",
    "\n",
    "The value of gamma ($\\gamma$) is used to adjust the radius, i.e. neighborhood, of influence for each data point.\n",
    "\n",
    "It is inversely related to the radius of influence. Thus smaller gamma leads to larger influence."
   ]
  },
  {
   "cell_type": "markdown",
   "id": "9ee00ef1",
   "metadata": {},
   "source": [
    "Now plot the confusion matrix and print the accuracy again."
   ]
  },
  {
   "cell_type": "code",
   "execution_count": 37,
   "id": "6ea8a453",
   "metadata": {
    "scrolled": false
   },
   "outputs": [
    {
     "name": "stderr",
     "output_type": "stream",
     "text": [
      "/Users/peterngaba/opt/anaconda3/envs/tf/lib/python3.7/site-packages/sklearn/utils/deprecation.py:87: FutureWarning: Function plot_confusion_matrix is deprecated; Function `plot_confusion_matrix` is deprecated in 1.0 and will be removed in 1.2. Use one of the class methods: ConfusionMatrixDisplay.from_predictions or ConfusionMatrixDisplay.from_estimator.\n",
      "  warnings.warn(msg, category=FutureWarning)\n"
     ]
    },
    {
     "data": {
      "image/png": "[encoded data removed]",
      "text/plain": [
       "<Figure size 576x432 with 2 Axes>"
      ]
     },
     "metadata": {
      "needs_background": "light"
     },
     "output_type": "display_data"
    },
    {
     "name": "stdout",
     "output_type": "stream",
     "text": [
      "Accuracy: 95.11%\n"
     ]
    }
   ],
   "source": [
    "plot_confusion_matrix(classifier, X_test, y_test)"
   ]
  },
  {
   "cell_type": "markdown",
   "id": "039f2165",
   "metadata": {},
   "source": [
    "The accuracy has improved from 94.89% to 95.11%.\n",
    "\n",
    "But the sixth digit from the right is still misclassified."
   ]
  },
  {
   "cell_type": "markdown",
   "id": "d03147ce",
   "metadata": {},
   "source": [
    "## Exercise\n",
    "\n",
    "Improve the accuracy. Print out your new accuracy score."
   ]
  },
  {
   "cell_type": "code",
   "execution_count": 42,
   "id": "43da7207",
   "metadata": {
    "scrolled": false
   },
   "outputs": [
    {
     "name": "stdout",
     "output_type": "stream",
     "text": [
      "Accuracy: 96.67%\n"
     ]
    }
   ],
   "source": [
    "# DO NOT MODIFY THIS BLOCK\n",
    "# BEGIN BLOCK\n",
    "X_train = None\n",
    "y_train = None\n",
    "X_test = None\n",
    "y_test = None\n",
    "# END BLOCK\n",
    "\n",
    "# Modify the remainder of this cell until the final accuracy printout.\n",
    "\n",
    "# Reference data.\n",
    "X = digits.data\n",
    "y = digits.target\n",
    "\n",
    "# Get classifier.\n",
    "cl = svm.SVC(gamma=.001)\n",
    "\n",
    "# Split data into testing and training sets.\n",
    "X_train, X_test, y_train, y_test = train_test_split(X, y, test_size=.25, shuffle=False)\n",
    "\n",
    "# Fit and Predict.\n",
    "cl.fit(X_train, y_train)\n",
    "y_prediction = cl.predict(X_test);\n",
    "\n",
    "# Accuracy.\n",
    "print(\"Accuracy: %.2f%%\" % (metrics.accuracy_score(y_test, y_prediction)*100))"
   ]
  },
  {
   "cell_type": "markdown",
   "id": "776238ee",
   "metadata": {},
   "source": [
    "## End of Excercise\n",
    "\n",
    "## CMSC 471"
   ]
  },
  {
   "cell_type": "code",
   "execution_count": null,
   "id": "95dc8b78",
   "metadata": {},
   "outputs": [],
   "source": []
  }
 ],
 "metadata": {
  "kernelspec": {
   "display_name": "Python 3 (ipykernel)",
   "language": "python",
   "name": "python3"
  },
  "language_info": {
   "codemirror_mode": {
    "name": "ipython",
    "version": 3
   },
   "file_extension": ".py",
   "mimetype": "text/x-python",
   "name": "python",
   "nbconvert_exporter": "python",
   "pygments_lexer": "ipython3",
   "version": "3.7.7"
  }
 },
 "nbformat": 4,
 "nbformat_minor": 5
}
